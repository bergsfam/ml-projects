{
 "cells": [
  {
   "cell_type": "code",
   "execution_count": 23,
   "metadata": {
    "collapsed": true
   },
   "outputs": [],
   "source": [
    "import pandas as pd\n",
    "import numpy as np\n",
    "import pandas_datareader.data as web\n",
    "import analysis"
   ]
  },
  {
   "cell_type": "code",
   "execution_count": 2,
   "metadata": {
    "collapsed": false
   },
   "outputs": [
    {
     "name": "stdout",
     "output_type": "stream",
     "text": [
      "           Symbol Order  Shares\n",
      "Date                           \n",
      "2011-01-10   AAPL   BUY    1500\n",
      "2011-01-13   AAPL  SELL    1500\n",
      "2011-01-13    IBM   BUY    4000\n",
      "2011-01-26   GOOG   BUY    1000\n",
      "2011-02-02    XOM  SELL    4000 \n",
      "\n"
     ]
    }
   ],
   "source": [
    "orders_file = 'testcases/orders-01.csv'\n",
    "orders_df = pd.read_csv(orders_file, index_col='Date', parse_dates=True, na_values=['nan'])\n",
    "\n",
    "syms = orders_df['Symbol'].values\n",
    "syms = np.unique(syms)\n",
    "\n",
    "sd = orders_df.index[0]\n",
    "ed = orders_df.index[-1]\n",
    "\n",
    "print orders_df.head()"
   ]
  },
  {
   "cell_type": "code",
   "execution_count": 3,
   "metadata": {
    "collapsed": true
   },
   "outputs": [],
   "source": [
    "def get_data(start, end, symbols):\n",
    "    data = pd.DataFrame()\n",
    "    for sym in symbols:\n",
    "        data[sym] = web.DataReader(sym, 'yahoo', start, end)['Adj Close']\n",
    "    data.columns = symbols\n",
    "    return data"
   ]
  },
  {
   "cell_type": "code",
   "execution_count": 4,
   "metadata": {
    "collapsed": false
   },
   "outputs": [
    {
     "name": "stdout",
     "output_type": "stream",
     "text": [
      "                 AAPL        GOOG         IBM        XOM  CASH\n",
      "Date                                                          \n",
      "2011-01-10  44.560027  306.798725  127.558085  63.269955   1.0\n",
      "2011-01-11  44.454628  307.697825  127.247052  63.741558   1.0\n",
      "2011-01-12  44.816367  308.127408  128.819503  64.491061   1.0\n",
      "2011-01-13  44.980320  308.037501  128.577589  64.600537   1.0\n",
      "2011-01-14  45.344657  311.778769  129.597080  65.552153   1.0 \n",
      "\n",
      "                AAPL      GOOG       IBM       XOM  CASH\n",
      "Date                                                    \n",
      "2011-01-11 -0.002365  0.002931 -0.002438  0.007454   0.0\n",
      "2011-01-12  0.008137  0.001396  0.012357  0.011758   0.0\n",
      "2011-01-13  0.003658 -0.000292 -0.001878  0.001698   0.0\n",
      "2011-01-14  0.008100  0.012145  0.007929  0.014731   0.0\n",
      "2011-01-18 -0.022469  0.024752  0.004333  0.011177   0.0\n"
     ]
    }
   ],
   "source": [
    "market_prices = get_data(sd, ed, syms)\n",
    "market_prices['CASH'] = 1.0\n",
    "market_rets = market_prices.pct_change().dropna()\n",
    "print market_prices.head(), \"\\n\"\n",
    "print market_rets.head()"
   ]
  },
  {
   "cell_type": "code",
   "execution_count": 14,
   "metadata": {
    "collapsed": false
   },
   "outputs": [
    {
     "name": "stdout",
     "output_type": "stream",
     "text": [
      "              AAPL  GOOG     IBM  XOM         CASH\n",
      "Date                                              \n",
      "2011-01-10  1500.0   0.0     0.0  0.0  -66840.0405\n",
      "2011-01-11     0.0   0.0     0.0  0.0       0.0000\n",
      "2011-01-12     0.0   0.0     0.0  0.0       0.0000\n",
      "2011-01-13 -1500.0   0.0  4000.0  0.0 -446839.8760\n",
      "2011-01-14     0.0   0.0     0.0  0.0       0.0000 \n",
      "\n",
      "            AAPL    GOOG     IBM  XOM          CASH\n",
      "Date                                               \n",
      "2011-12-21  20.0     0.0     0.0  0.0   -1031.73154\n",
      "2011-12-22   0.0     0.0     0.0  0.0       0.00000\n",
      "2011-12-23   0.0     0.0     0.0  0.0       0.00000\n",
      "2011-12-27   0.0  2200.0     0.0  0.0 -703572.61700\n",
      "2011-12-28   0.0     0.0 -2200.0  0.0  355634.80040\n"
     ]
    }
   ],
   "source": [
    "trades_df = pd.DataFrame(data=0., columns=market_prices.columns, index=market_prices.index)\n",
    "\n",
    "for index, row in orders_df.iterrows():\n",
    "    if row['Order'] == 'SELL':\n",
    "        trades_df[row['Symbol']].loc[index] = -1 * row['Shares']\n",
    "        trades_df['CASH'].loc[index] = trades_df['CASH'].loc[index] + market_prices[row['Symbol']].loc[index] * row['Shares']\n",
    "    else:\n",
    "        trades_df[row['Symbol']].loc[index] = row['Shares']\n",
    "        trades_df['CASH'].loc[index] = trades_df['CASH'].loc[index] - market_prices[row['Symbol']].loc[index] * row['Shares']\n",
    "print trades_df.head(), \"\\n\"\n",
    "print trades_df.tail()"
   ]
  },
  {
   "cell_type": "code",
   "execution_count": 22,
   "metadata": {
    "collapsed": false
   },
   "outputs": [
    {
     "name": "stdout",
     "output_type": "stream",
     "text": [
      "              AAPL  GOOG     IBM  XOM         CASH\n",
      "Date                                              \n",
      "2011-01-10  1500.0   0.0     0.0  0.0  933159.9595\n",
      "2011-01-11  1500.0   0.0     0.0  0.0  933159.9595\n",
      "2011-01-12  1500.0   0.0     0.0  0.0  933159.9595\n",
      "2011-01-13     0.0   0.0  4000.0  0.0  486320.0835\n",
      "2011-01-14     0.0   0.0  4000.0  0.0  486320.0835 \n",
      "\n",
      "            AAPL    GOOG     IBM  XOM          CASH\n",
      "Date                                               \n",
      "2011-12-21  20.0 -1255.0  2200.0  0.0  1.411472e+06\n",
      "2011-12-22  20.0 -1255.0  2200.0  0.0  1.411472e+06\n",
      "2011-12-23  20.0 -1255.0  2200.0  0.0  1.411472e+06\n",
      "2011-12-27  20.0   945.0  2200.0  0.0  7.078993e+05\n",
      "2011-12-28  20.0   945.0     0.0  0.0  1.063534e+06 \n",
      "\n",
      "                  AAPL           GOOG          IBM  XOM          CASH  \\\n",
      "Date                                                                    \n",
      "2011-12-21  1031.73154 -392310.412190  350763.8772  0.0  1.411472e+06   \n",
      "2011-12-22  1037.19662 -394742.702590  351865.6174  0.0  1.411472e+06   \n",
      "2011-12-23  1049.63622 -396899.131440  357103.7976  0.0  1.411472e+06   \n",
      "2011-12-27  1057.96396  302216.419575  357490.3706  0.0  7.078993e+05   \n",
      "2011-12-28  1047.84054  301956.819570       0.0000  0.0  1.063534e+06   \n",
      "\n",
      "               Portfolio  \n",
      "Date                      \n",
      "2011-12-21  1.370957e+06  \n",
      "2011-12-22  1.369632e+06  \n",
      "2011-12-23  1.372726e+06  \n",
      "2011-12-27  1.368664e+06  \n",
      "2011-12-28  1.366539e+06  \n"
     ]
    }
   ],
   "source": [
    "#FINISH THIS PART\n",
    "\n",
    "start_val = 1000000\n",
    "shares_owned = pd.DataFrame(data=0., columns=market_prices.columns, index=market_prices.index)\n",
    "shares_owned['CASH'][0] = start_val\n",
    "\n",
    "for x in xrange(len(shares_owned)):\n",
    "    if x > 0:\n",
    "        shares_owned.iloc[x] = shares_owned.iloc[x-1]\n",
    "    shares_owned.iloc[x] = shares_owned.iloc[x] + trades_df.iloc[x]\n",
    "\n",
    "my_portfolio = shares_owned * market_prices\n",
    "my_portfolio['Portfolio'] = my_portfolio.sum(axis=1)\n",
    "print shares_owned.head(), \"\\n\"\n",
    "print shares_owned.tail(), \"\\n\"\n",
    "print my_portfolio.tail()"
   ]
  },
  {
   "cell_type": "code",
   "execution_count": 28,
   "metadata": {
    "collapsed": false
   },
   "outputs": [
    {
     "name": "stdout",
     "output_type": "stream",
     "text": [
      "Start Date: 2011-01-10 00:00:00\n",
      "End Date: 2011-12-28 00:00:00\n",
      "Symbols: ['AAPL' 'GOOG' 'IBM' 'XOM']\n",
      "Sharpe Ratio: 1.132\n",
      "Volatility (stdev of daily returns): 0.020\n",
      "Average Daily Return: 0.00145\n",
      "Cumulative Return: 0.367\n",
      "Final Value: 1366538.81\n"
     ]
    }
   ],
   "source": [
    "# compute stats... need to update analysis.py\n",
    "spy = analysis.get_data(sd, ed, ['SPY'])\n",
    "spy = analysis.allocate_data(spy, [1.0], start_val)\n",
    "cr, adr, sddr, sr = analysis.compute_portfolio_stats(my_portfolio)\n",
    "ev = my_portfolio['Portfolio'][-1]\n",
    "\n",
    "print \"Start Date:\", sd\n",
    "print \"End Date:\", ed\n",
    "print \"Symbols:\", syms\n",
    "print \"Sharpe Ratio: %5.3f\" % sr\n",
    "print \"Volatility (stdev of daily returns): %5.3f\" % sddr\n",
    "print \"Average Daily Return: %7.5f\" % adr\n",
    "print \"Cumulative Return: %5.3f\" % cr\n",
    "print \"Final Value: %10.2f\" % ev\n"
   ]
  },
  {
   "cell_type": "code",
   "execution_count": null,
   "metadata": {
    "collapsed": true
   },
   "outputs": [],
   "source": []
  }
 ],
 "metadata": {
  "kernelspec": {
   "display_name": "Python 2",
   "language": "python",
   "name": "python2"
  },
  "language_info": {
   "codemirror_mode": {
    "name": "ipython",
    "version": 2
   },
   "file_extension": ".py",
   "mimetype": "text/x-python",
   "name": "python",
   "nbconvert_exporter": "python",
   "pygments_lexer": "ipython2",
   "version": "2.7.11"
  }
 },
 "nbformat": 4,
 "nbformat_minor": 0
}
