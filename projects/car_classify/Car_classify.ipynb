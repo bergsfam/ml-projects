{
 "cells": [
  {
   "cell_type": "markdown",
   "metadata": {},
   "source": [
    "Goal: Determine quality of a car\n",
    "\n",
    "let's analyze the dataset first\n",
    "- read in as pandas\n",
    "- histogram each of the columns\n",
    "\n",
    "Now for the learning\n",
    "- then do the preprocessing\n",
    "- classification with random forest\n",
    "- classification with Naive Bayes\n",
    "\n",
    "Run metrics\n",
    "- classification reports\n",
    "- can I graph some confusion matricies?"
   ]
  },
  {
   "cell_type": "code",
   "execution_count": null,
   "metadata": {
    "collapsed": true
   },
   "outputs": [],
   "source": []
  }
 ],
 "metadata": {
  "kernelspec": {
   "display_name": "Python 2",
   "language": "python",
   "name": "python2"
  },
  "language_info": {
   "codemirror_mode": {
    "name": "ipython",
    "version": 2
   },
   "file_extension": ".py",
   "mimetype": "text/x-python",
   "name": "python",
   "nbconvert_exporter": "python",
   "pygments_lexer": "ipython2",
   "version": "2.7.11"
  }
 },
 "nbformat": 4,
 "nbformat_minor": 0
}
