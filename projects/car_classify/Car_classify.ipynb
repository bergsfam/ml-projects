{
 "cells": [
  {
   "cell_type": "markdown",
   "metadata": {},
   "source": [
    "# Goal: Determine quality of a car"
   ]
  },
  {
   "cell_type": "code",
   "execution_count": 1,
   "metadata": {
    "collapsed": true
   },
   "outputs": [],
   "source": [
    "import numpy as np\n",
    "import pandas as pd\n",
    "import matplotlib.pyplot as plt\n",
    "import seaborn as sns\n",
    "\n",
    "sns.set()\n",
    "%matplotlib inline"
   ]
  },
  {
   "cell_type": "markdown",
   "metadata": {},
   "source": [
    "## Analyze Dataset"
   ]
  },
  {
   "cell_type": "code",
   "execution_count": 2,
   "metadata": {
    "collapsed": false
   },
   "outputs": [
    {
     "data": {
      "text/html": [
       "<div>\n",
       "<table border=\"1\" class=\"dataframe\">\n",
       "  <thead>\n",
       "    <tr style=\"text-align: right;\">\n",
       "      <th></th>\n",
       "      <th>buying</th>\n",
       "      <th>maint</th>\n",
       "      <th>doors</th>\n",
       "      <th>persons</th>\n",
       "      <th>lug_boot</th>\n",
       "      <th>safety</th>\n",
       "      <th>quality</th>\n",
       "    </tr>\n",
       "  </thead>\n",
       "  <tbody>\n",
       "    <tr>\n",
       "      <th>count</th>\n",
       "      <td>1728</td>\n",
       "      <td>1728</td>\n",
       "      <td>1728</td>\n",
       "      <td>1728</td>\n",
       "      <td>1728</td>\n",
       "      <td>1728</td>\n",
       "      <td>1728</td>\n",
       "    </tr>\n",
       "    <tr>\n",
       "      <th>unique</th>\n",
       "      <td>4</td>\n",
       "      <td>4</td>\n",
       "      <td>4</td>\n",
       "      <td>3</td>\n",
       "      <td>3</td>\n",
       "      <td>3</td>\n",
       "      <td>4</td>\n",
       "    </tr>\n",
       "    <tr>\n",
       "      <th>top</th>\n",
       "      <td>med</td>\n",
       "      <td>med</td>\n",
       "      <td>3</td>\n",
       "      <td>more</td>\n",
       "      <td>med</td>\n",
       "      <td>med</td>\n",
       "      <td>unacc</td>\n",
       "    </tr>\n",
       "    <tr>\n",
       "      <th>freq</th>\n",
       "      <td>432</td>\n",
       "      <td>432</td>\n",
       "      <td>432</td>\n",
       "      <td>576</td>\n",
       "      <td>576</td>\n",
       "      <td>576</td>\n",
       "      <td>1210</td>\n",
       "    </tr>\n",
       "  </tbody>\n",
       "</table>\n",
       "</div>"
      ],
      "text/plain": [
       "       buying maint doors persons lug_boot safety quality\n",
       "count    1728  1728  1728    1728     1728   1728    1728\n",
       "unique      4     4     4       3        3      3       4\n",
       "top       med   med     3    more      med    med   unacc\n",
       "freq      432   432   432     576      576    576    1210"
      ]
     },
     "execution_count": 2,
     "metadata": {},
     "output_type": "execute_result"
    }
   ],
   "source": [
    "car_data = pd.read_csv('car_data.csv')\n",
    "\n",
    "car_data.describe()"
   ]
  },
  {
   "cell_type": "code",
   "execution_count": 3,
   "metadata": {
    "collapsed": false
   },
   "outputs": [
    {
     "data": {
      "text/plain": [
       "med      432\n",
       "high     432\n",
       "low      432\n",
       "vhigh    432\n",
       "Name: buying, dtype: int64"
      ]
     },
     "execution_count": 3,
     "metadata": {},
     "output_type": "execute_result"
    },
    {
     "data": {
      "image/png": "[encoded data removed]",
      "text/plain": [
       "<matplotlib.figure.Figure at 0x10368f2d0>"
      ]
     },
     "metadata": {},
     "output_type": "display_data"
    }
   ],
   "source": [
    "car_data.buying.value_counts().plot(kind='bar');\n",
    "car_data['buying'].value_counts()"
   ]
  },
  {
   "cell_type": "code",
   "execution_count": 4,
   "metadata": {
    "collapsed": false
   },
   "outputs": [
    {
     "name": "stdout",
     "output_type": "stream",
     "text": [
      "buying data\n",
      "med      432\n",
      "high     432\n",
      "low      432\n",
      "vhigh    432\n",
      "Name: buying, dtype: int64 \n",
      "\n",
      "maint data\n",
      "med      432\n",
      "high     432\n",
      "low      432\n",
      "vhigh    432\n",
      "Name: maint, dtype: int64 \n",
      "\n",
      "doors data\n",
      "3        432\n",
      "5more    432\n",
      "4        432\n",
      "2        432\n",
      "Name: doors, dtype: int64 \n",
      "\n",
      "persons data\n",
      "more    576\n",
      "4       576\n",
      "2       576\n",
      "Name: persons, dtype: int64 \n",
      "\n",
      "lug_boot data\n",
      "med      576\n",
      "small    576\n",
      "big      576\n",
      "Name: lug_boot, dtype: int64 \n",
      "\n",
      "safety data\n",
      "med     576\n",
      "high    576\n",
      "low     576\n",
      "Name: safety, dtype: int64 \n",
      "\n",
      "quality data\n",
      "unacc    1210\n",
      "acc       384\n",
      "good       69\n",
      "vgood      65\n",
      "Name: quality, dtype: int64 \n",
      "\n"
     ]
    }
   ],
   "source": [
    "for col in car_data.columns:\n",
    "    print col, \"data\"\n",
    "    print car_data[col].value_counts(), \"\\n\""
   ]
  },
  {
   "cell_type": "markdown",
   "metadata": {},
   "source": [
    "Looks like the data has equal values for each feature.  Quality (the category) is skewed"
   ]
  },
  {
   "cell_type": "markdown",
   "metadata": {},
   "source": [
    "## Learning"
   ]
  },
  {
   "cell_type": "code",
   "execution_count": 5,
   "metadata": {
    "collapsed": true
   },
   "outputs": [],
   "source": [
    "from sklearn import preprocessing\n",
    "from sklearn.ensemble import RandomForestClassifier\n",
    "from sklearn import model_selection\n",
    "from sklearn.naive_bayes import GaussianNB\n",
    "from sklearn.metrics import confusion_matrix, classification_report"
   ]
  },
  {
   "cell_type": "code",
   "execution_count": 6,
   "metadata": {
    "collapsed": false
   },
   "outputs": [
    {
     "data": {
      "text/html": [
       "<div>\n",
       "<table border=\"1\" class=\"dataframe\">\n",
       "  <thead>\n",
       "    <tr style=\"text-align: right;\">\n",
       "      <th></th>\n",
       "      <th>buying</th>\n",
       "      <th>maint</th>\n",
       "      <th>doors</th>\n",
       "      <th>persons</th>\n",
       "      <th>lug_boot</th>\n",
       "      <th>safety</th>\n",
       "      <th>quality</th>\n",
       "    </tr>\n",
       "  </thead>\n",
       "  <tbody>\n",
       "    <tr>\n",
       "      <th>count</th>\n",
       "      <td>1728.000000</td>\n",
       "      <td>1728.000000</td>\n",
       "      <td>1728.000000</td>\n",
       "      <td>1728.000000</td>\n",
       "      <td>1728.000000</td>\n",
       "      <td>1728.000000</td>\n",
       "      <td>1728.000000</td>\n",
       "    </tr>\n",
       "    <tr>\n",
       "      <th>mean</th>\n",
       "      <td>1.500000</td>\n",
       "      <td>1.500000</td>\n",
       "      <td>1.500000</td>\n",
       "      <td>1.000000</td>\n",
       "      <td>1.000000</td>\n",
       "      <td>1.000000</td>\n",
       "      <td>1.553241</td>\n",
       "    </tr>\n",
       "    <tr>\n",
       "      <th>std</th>\n",
       "      <td>1.118358</td>\n",
       "      <td>1.118358</td>\n",
       "      <td>1.118358</td>\n",
       "      <td>0.816733</td>\n",
       "      <td>0.816733</td>\n",
       "      <td>0.816733</td>\n",
       "      <td>0.875948</td>\n",
       "    </tr>\n",
       "    <tr>\n",
       "      <th>min</th>\n",
       "      <td>0.000000</td>\n",
       "      <td>0.000000</td>\n",
       "      <td>0.000000</td>\n",
       "      <td>0.000000</td>\n",
       "      <td>0.000000</td>\n",
       "      <td>0.000000</td>\n",
       "      <td>0.000000</td>\n",
       "    </tr>\n",
       "    <tr>\n",
       "      <th>25%</th>\n",
       "      <td>0.750000</td>\n",
       "      <td>0.750000</td>\n",
       "      <td>0.750000</td>\n",
       "      <td>0.000000</td>\n",
       "      <td>0.000000</td>\n",
       "      <td>0.000000</td>\n",
       "      <td>1.000000</td>\n",
       "    </tr>\n",
       "    <tr>\n",
       "      <th>50%</th>\n",
       "      <td>1.500000</td>\n",
       "      <td>1.500000</td>\n",
       "      <td>1.500000</td>\n",
       "      <td>1.000000</td>\n",
       "      <td>1.000000</td>\n",
       "      <td>1.000000</td>\n",
       "      <td>2.000000</td>\n",
       "    </tr>\n",
       "    <tr>\n",
       "      <th>75%</th>\n",
       "      <td>2.250000</td>\n",
       "      <td>2.250000</td>\n",
       "      <td>2.250000</td>\n",
       "      <td>2.000000</td>\n",
       "      <td>2.000000</td>\n",
       "      <td>2.000000</td>\n",
       "      <td>2.000000</td>\n",
       "    </tr>\n",
       "    <tr>\n",
       "      <th>max</th>\n",
       "      <td>3.000000</td>\n",
       "      <td>3.000000</td>\n",
       "      <td>3.000000</td>\n",
       "      <td>2.000000</td>\n",
       "      <td>2.000000</td>\n",
       "      <td>2.000000</td>\n",
       "      <td>3.000000</td>\n",
       "    </tr>\n",
       "  </tbody>\n",
       "</table>\n",
       "</div>"
      ],
      "text/plain": [
       "            buying        maint        doors      persons     lug_boot  \\\n",
       "count  1728.000000  1728.000000  1728.000000  1728.000000  1728.000000   \n",
       "mean      1.500000     1.500000     1.500000     1.000000     1.000000   \n",
       "std       1.118358     1.118358     1.118358     0.816733     0.816733   \n",
       "min       0.000000     0.000000     0.000000     0.000000     0.000000   \n",
       "25%       0.750000     0.750000     0.750000     0.000000     0.000000   \n",
       "50%       1.500000     1.500000     1.500000     1.000000     1.000000   \n",
       "75%       2.250000     2.250000     2.250000     2.000000     2.000000   \n",
       "max       3.000000     3.000000     3.000000     2.000000     2.000000   \n",
       "\n",
       "            safety      quality  \n",
       "count  1728.000000  1728.000000  \n",
       "mean      1.000000     1.553241  \n",
       "std       0.816733     0.875948  \n",
       "min       0.000000     0.000000  \n",
       "25%       0.000000     1.000000  \n",
       "50%       1.000000     2.000000  \n",
       "75%       2.000000     2.000000  \n",
       "max       2.000000     3.000000  "
      ]
     },
     "execution_count": 6,
     "metadata": {},
     "output_type": "execute_result"
    }
   ],
   "source": [
    "le = preprocessing.LabelEncoder()\n",
    "le_car_data = car_data.apply(le.fit_transform)\n",
    "le_car_data.describe()"
   ]
  },
  {
   "cell_type": "code",
   "execution_count": 7,
   "metadata": {
    "collapsed": false
   },
   "outputs": [
    {
     "name": "stdout",
     "output_type": "stream",
     "text": [
      "X: \n",
      "[[3 3 0 0 2 1]\n",
      " [3 3 0 0 2 2]\n",
      " [3 3 0 0 2 0]\n",
      " [3 3 0 0 1 1]\n",
      " [3 3 0 0 1 2]]\n",
      "X shape:  (1728, 6)\n",
      "y:  [2 2 2 2 2]\n",
      "y shape:  (1728,)\n"
     ]
    }
   ],
   "source": [
    "# Get X and y\n",
    "X = le_car_data.values[:,:-1]\n",
    "y = le_car_data.quality.values\n",
    "\n",
    "print \"X: \\n\", X[:5]\n",
    "print \"X shape: \", X.shape\n",
    "print \"y: \", y[:5]\n",
    "print \"y shape: \", y.shape"
   ]
  },
  {
   "cell_type": "code",
   "execution_count": 8,
   "metadata": {
    "collapsed": true
   },
   "outputs": [],
   "source": [
    "# Now split the data into train & test\n",
    "X_train, X_test, y_train, y_test = model_selection.train_test_split(X, y, train_size=0.75, random_state=42)"
   ]
  },
  {
   "cell_type": "markdown",
   "metadata": {},
   "source": [
    "### Random Forest"
   ]
  },
  {
   "cell_type": "code",
   "execution_count": 9,
   "metadata": {
    "collapsed": false
   },
   "outputs": [],
   "source": [
    "# Now build the random forest classifier\n",
    "params = {'n_estimators':200, 'max_depth':8, 'random_state':42}\n",
    "rf_classifier = RandomForestClassifier(**params)\n",
    "rf_classifier.fit(X_train, y_train)\n",
    "y_test_pred = rf_classifier.predict(X_test)"
   ]
  },
  {
   "cell_type": "code",
   "execution_count": 10,
   "metadata": {
    "collapsed": false
   },
   "outputs": [
    {
     "name": "stdout",
     "output_type": "stream",
     "text": [
      "[[ 90   2  10   1]\n",
      " [  6   8   0   1]\n",
      " [  0   0 294   0]\n",
      " [  2   0   0  18]]\n",
      "             precision    recall  f1-score   support\n",
      "\n",
      "        acc       0.92      0.87      0.90       103\n",
      "       good       0.80      0.53      0.64        15\n",
      "      unacc       0.97      1.00      0.98       294\n",
      "      vgood       0.90      0.90      0.90        20\n",
      "\n",
      "avg / total       0.95      0.95      0.95       432\n",
      "\n"
     ]
    }
   ],
   "source": [
    "confusion_mat = confusion_matrix(y_test, y_test_pred)\n",
    "target_names = le.inverse_transform([0,1,2,3])\n",
    "print confusion_mat\n",
    "print classification_report(y_test, y_test_pred, target_names=target_names)"
   ]
  },
  {
   "cell_type": "code",
   "execution_count": 11,
   "metadata": {
    "collapsed": false
   },
   "outputs": [
    {
     "name": "stderr",
     "output_type": "stream",
     "text": [
      "/Users/bergsfamily/anaconda2/lib/python2.7/site-packages/sklearn/metrics/classification.py:1113: UndefinedMetricWarning: Precision is ill-defined and being set to 0.0 in labels with no predicted samples.\n",
      "  'precision', 'predicted', average, warn_for)\n",
      "/Users/bergsfamily/anaconda2/lib/python2.7/site-packages/sklearn/metrics/classification.py:1113: UndefinedMetricWarning: F-score is ill-defined and being set to 0.0 in labels with no predicted samples.\n",
      "  'precision', 'predicted', average, warn_for)\n"
     ]
    },
    {
     "name": "stdout",
     "output_type": "stream",
     "text": [
      "Precision: 88.64%\n",
      "Recall   : 89.6%\n",
      "Accuracy : 89.6%\n",
      "F1       : 88.63%\n"
     ]
    }
   ],
   "source": [
    "num_validations = 5\n",
    "precision = model_selection.cross_val_score(rf_classifier, X_test, y_test, scoring='precision_weighted', cv=num_validations)\n",
    "recall = model_selection.cross_val_score(rf_classifier, X_test, y_test, scoring='recall_weighted', cv=num_validations)\n",
    "accuracy = model_selection.cross_val_score(rf_classifier, X_test, y_test, scoring='accuracy', cv=num_validations)\n",
    "f1 = model_selection.cross_val_score(rf_classifier, X_test, y_test, scoring='f1_weighted', cv=num_validations)\n",
    "\n",
    "print \"Precision: \" + str(round(100*precision.mean(), 2)) + \"%\"\n",
    "print \"Recall   : \" + str(round(100*recall.mean(), 2)) + \"%\"\n",
    "print \"Accuracy : \" + str(round(100*accuracy.mean(), 2)) + \"%\"\n",
    "print \"F1       : \" + str(round(100*f1.mean(), 2)) + \"%\""
   ]
  },
  {
   "cell_type": "markdown",
   "metadata": {},
   "source": [
    "### Naive Bayes"
   ]
  },
  {
   "cell_type": "code",
   "execution_count": 12,
   "metadata": {
    "collapsed": false
   },
   "outputs": [],
   "source": [
    "classifier_gaussiannb = GaussianNB()\n",
    "classifier_gaussiannb.fit(X_train, y_train)\n",
    "y_test_pred = classifier_gaussiannb.predict(X_test)"
   ]
  },
  {
   "cell_type": "code",
   "execution_count": 13,
   "metadata": {
    "collapsed": false
   },
   "outputs": [
    {
     "name": "stdout",
     "output_type": "stream",
     "text": [
      "[[ 10   0  42  51]\n",
      " [  3   0   4   8]\n",
      " [  5   0 243  46]\n",
      " [  0   0   0  20]]\n",
      "             precision    recall  f1-score   support\n",
      "\n",
      "        acc       0.56      0.10      0.17       103\n",
      "       good       0.00      0.00      0.00        15\n",
      "      unacc       0.84      0.83      0.83       294\n",
      "      vgood       0.16      1.00      0.28        20\n",
      "\n",
      "avg / total       0.71      0.63      0.62       432\n",
      "\n"
     ]
    },
    {
     "name": "stderr",
     "output_type": "stream",
     "text": [
      "/Users/bergsfamily/anaconda2/lib/python2.7/site-packages/sklearn/metrics/classification.py:1113: UndefinedMetricWarning: Precision and F-score are ill-defined and being set to 0.0 in labels with no predicted samples.\n",
      "  'precision', 'predicted', average, warn_for)\n"
     ]
    }
   ],
   "source": [
    "confusion_mat = confusion_matrix(y_test, y_test_pred)\n",
    "target_names = le.inverse_transform([0,1,2,3])\n",
    "print confusion_mat\n",
    "print classification_report(y_test, y_test_pred, target_names=target_names)"
   ]
  },
  {
   "cell_type": "code",
   "execution_count": 14,
   "metadata": {
    "collapsed": false
   },
   "outputs": [
    {
     "name": "stdout",
     "output_type": "stream",
     "text": [
      "Precision: 68.48%\n",
      "Recall   : 62.49%\n",
      "Accuracy : 62.49%\n",
      "F1       : 62.13%\n"
     ]
    }
   ],
   "source": [
    "num_validations = 5\n",
    "precision = model_selection.cross_val_score(classifier_gaussiannb, X_test, y_test, scoring='precision_weighted', cv=num_validations)\n",
    "recall = model_selection.cross_val_score(classifier_gaussiannb, X_test, y_test, scoring='recall_weighted', cv=num_validations)\n",
    "accuracy = model_selection.cross_val_score(classifier_gaussiannb, X_test, y_test, scoring='accuracy', cv=num_validations)\n",
    "f1 = model_selection.cross_val_score(classifier_gaussiannb, X_test, y_test, scoring='f1_weighted', cv=num_validations)\n",
    "\n",
    "print \"Precision: \" + str(round(100*precision.mean(), 2)) + \"%\"\n",
    "print \"Recall   : \" + str(round(100*recall.mean(), 2)) + \"%\"\n",
    "print \"Accuracy : \" + str(round(100*accuracy.mean(), 2)) + \"%\"\n",
    "print \"F1       : \" + str(round(100*f1.mean(), 2)) + \"%\""
   ]
  },
  {
   "cell_type": "markdown",
   "metadata": {},
   "source": [
    "Random forest perfomed much better, although I should probably do a stratified shuffle split to get the NB fitting better."
   ]
  },
  {
   "cell_type": "code",
   "execution_count": null,
   "metadata": {
    "collapsed": true
   },
   "outputs": [],
   "source": []
  }
 ],
 "metadata": {
  "kernelspec": {
   "display_name": "Python 2",
   "language": "python",
   "name": "python2"
  },
  "language_info": {
   "codemirror_mode": {
    "name": "ipython",
    "version": 2
   },
   "file_extension": ".py",
   "mimetype": "text/x-python",
   "name": "python",
   "nbconvert_exporter": "python",
   "pygments_lexer": "ipython2",
   "version": "2.7.11"
  }
 },
 "nbformat": 4,
 "nbformat_minor": 0
}
