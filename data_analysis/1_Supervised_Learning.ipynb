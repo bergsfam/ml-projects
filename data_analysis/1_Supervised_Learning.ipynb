{
 "cells": [
  {
   "cell_type": "code",
   "execution_count": 1,
   "metadata": {
    "collapsed": true
   },
   "outputs": [],
   "source": [
    "import numpy as np\n",
    "from sklearn import preprocessing"
   ]
  },
  {
   "cell_type": "markdown",
   "metadata": {},
   "source": [
    "# Data Preprocessing"
   ]
  },
  {
   "cell_type": "code",
   "execution_count": 2,
   "metadata": {
    "collapsed": true
   },
   "outputs": [],
   "source": [
    "data = np.array([[3, -1.5,  2, -5.4], \n",
    "                 [0,  4,  -0.3, 2.1], \n",
    "                 [1,  3.3, -1.9, -4.3]])"
   ]
  },
  {
   "cell_type": "code",
   "execution_count": 3,
   "metadata": {
    "collapsed": false
   },
   "outputs": [
    {
     "name": "stdout",
     "output_type": "stream",
     "text": [
      "Mean          =  [  5.55111512e-17  -1.11022302e-16  -7.40148683e-17  -7.40148683e-17]\n",
      "Std Deviation =  [ 1.  1.  1.  1.]\n"
     ]
    }
   ],
   "source": [
    "# Mean removal\n",
    "data_standardized = preprocessing.scale(data) # defaults to scaling to a std normal\n",
    "print \"Mean          = \", data_standardized.mean(axis=0) # mean s/b 0\n",
    "print \"Std Deviation = \", data_standardized.std(axis=0)  # std dev s/b 1"
   ]
  },
  {
   "cell_type": "code",
   "execution_count": 4,
   "metadata": {
    "collapsed": false
   },
   "outputs": [
    {
     "name": "stdout",
     "output_type": "stream",
     "text": [
      "Min max scaled data = \n",
      "[[ 1.          0.          1.          0.        ]\n",
      " [ 0.          1.          0.41025641  1.        ]\n",
      " [ 0.33333333  0.87272727  0.          0.14666667]]\n"
     ]
    }
   ],
   "source": [
    "# Scaling data\n",
    "data_scaler = preprocessing.MinMaxScaler(feature_range=(0,1)) # scales features to (0,1)\n",
    "data_scaled = data_scaler.fit_transform(data)\n",
    "print \"Min max scaled data = \\n\", data_scaled"
   ]
  },
  {
   "cell_type": "code",
   "execution_count": 5,
   "metadata": {
    "collapsed": false
   },
   "outputs": [
    {
     "name": "stdout",
     "output_type": "stream",
     "text": [
      "L1 normalized data = \n",
      "[[ 0.25210084 -0.12605042  0.16806723 -0.45378151]\n",
      " [ 0.          0.625      -0.046875    0.328125  ]\n",
      " [ 0.0952381   0.31428571 -0.18095238 -0.40952381]]\n"
     ]
    }
   ],
   "source": [
    "# Normalized data\n",
    "data_normalized = preprocessing.normalize(data, norm='l1')\n",
    "print \"L1 normalized data = \\n\", data_normalized"
   ]
  },
  {
   "cell_type": "code",
   "execution_count": 6,
   "metadata": {
    "collapsed": false
   },
   "outputs": [
    {
     "name": "stdout",
     "output_type": "stream",
     "text": [
      "Binarized data = \n",
      "[[ 1.  0.  1.  0.]\n",
      " [ 0.  1.  0.  1.]\n",
      " [ 0.  1.  0.  0.]]\n"
     ]
    }
   ],
   "source": [
    "# Binarization\n",
    "data_binarized = preprocessing.Binarizer(threshold=1.4).transform(data)\n",
    "print \"Binarized data = \\n\", data_binarized"
   ]
  },
  {
   "cell_type": "code",
   "execution_count": 7,
   "metadata": {
    "collapsed": false
   },
   "outputs": [
    {
     "name": "stdout",
     "output_type": "stream",
     "text": [
      "Encoded vector = \n",
      "[[ 0.  0.  1.  0.  1.  0.  0.  0.  1.  1.  0.]]\n"
     ]
    }
   ],
   "source": [
    "# One Hot Encoding\n",
    "encoder = preprocessing.OneHotEncoder()\n",
    "encoder.fit([[0, 2, 1, 12],\n",
    "             [1, 3, 5, 3 ],\n",
    "             [2, 3, 2, 12],\n",
    "             [1, 2, 4, 3 ]])\n",
    "encoded_vector = encoder.transform([[2, 3, 5, 3]]).toarray()\n",
    "print \"Encoded vector = \\n\", encoded_vector"
   ]
  },
  {
   "cell_type": "code",
   "execution_count": 8,
   "metadata": {
    "collapsed": false
   },
   "outputs": [
    {
     "name": "stdout",
     "output_type": "stream",
     "text": [
      "Categories = [[0, 1, 2]]    [[ 0.  0.  1.]]\n",
      "Categories = [[2, 3]]       [[ 0.  1.]]\n",
      "Categories = [[1, 2, 4, 5]] [[ 0.  0.  0.  1.]]\n",
      "Categories = [[3, 12]]      [[ 1.  0.]]\n"
     ]
    }
   ],
   "source": [
    "print \"Categories = [[0, 1, 2]]   \", encoded_vector[:, 0:3]\n",
    "print \"Categories = [[2, 3]]      \", encoded_vector[:, 3:5]\n",
    "print \"Categories = [[1, 2, 4, 5]]\", encoded_vector[:, 5:9]\n",
    "print \"Categories = [[3, 12]]     \", encoded_vector[:, 9:]"
   ]
  },
  {
   "cell_type": "code",
   "execution_count": 9,
   "metadata": {
    "collapsed": false
   },
   "outputs": [
    {
     "name": "stdout",
     "output_type": "stream",
     "text": [
      "Class Mapping\n",
      "   audi --> 0\n",
      "   bmw --> 1\n",
      "   ford --> 2\n",
      "   toyota --> 3\n"
     ]
    }
   ],
   "source": [
    "# Label encoding\n",
    "label_encoder = preprocessing.LabelEncoder()\n",
    "input_classes = ['audi', 'ford', 'audi', 'toyota', 'ford', 'bmw']\n",
    "label_encoder.fit(input_classes)\n",
    "print \"Class Mapping\"\n",
    "for i, item in enumerate(label_encoder.classes_):\n",
    "    print '  ', item, '-->', i"
   ]
  },
  {
   "cell_type": "code",
   "execution_count": 10,
   "metadata": {
    "collapsed": false
   },
   "outputs": [
    {
     "name": "stdout",
     "output_type": "stream",
     "text": [
      "Labels =         ['toyota', 'ford', 'audi']\n",
      "Encoded labels = [3, 2, 0]\n"
     ]
    }
   ],
   "source": [
    "labels = ['toyota', 'ford', 'audi']\n",
    "encoded_labels = label_encoder.transform(labels)\n",
    "print \"Labels =        \", labels\n",
    "print \"Encoded labels =\", list(encoded_labels)"
   ]
  },
  {
   "cell_type": "code",
   "execution_count": 11,
   "metadata": {
    "collapsed": false
   },
   "outputs": [
    {
     "name": "stdout",
     "output_type": "stream",
     "text": [
      "Encoded labels = [2, 1, 0, 3, 1]\n",
      "Decoded labels = ['ford' 'bmw' 'audi' 'toyota' 'bmw']\n"
     ]
    }
   ],
   "source": [
    "encoded_labels = [2,1,0,3,1]\n",
    "decoded_labels = label_encoder.inverse_transform(encoded_labels)\n",
    "print \"Encoded labels =\", encoded_labels\n",
    "print \"Decoded labels =\", decoded_labels"
   ]
  },
  {
   "cell_type": "markdown",
   "metadata": {
    "collapsed": true
   },
   "source": [
    "# Regression"
   ]
  },
  {
   "cell_type": "code",
   "execution_count": 12,
   "metadata": {
    "collapsed": true
   },
   "outputs": [],
   "source": [
    "import pandas as pd"
   ]
  },
  {
   "cell_type": "code",
   "execution_count": 13,
   "metadata": {
    "collapsed": false
   },
   "outputs": [
    {
     "name": "stdout",
     "output_type": "stream",
     "text": [
      "(50, 1)\n",
      "(50,)\n"
     ]
    }
   ],
   "source": [
    "# Going rogue from the example to use SKLearn and Pandas\n",
    "#reg_data = pd.read_csv(\"data/data_singlevar.txt\", names=['X', 'y'])\n",
    "\n",
    "reg_data = np.genfromtxt(\"data/data_singlevar.txt\", delimiter=',')\n",
    "X, y = reg_data[:, :-1], reg_data[:,1]\n",
    "print X.shape\n",
    "print y.shape"
   ]
  },
  {
   "cell_type": "code",
   "execution_count": 14,
   "metadata": {
    "collapsed": false
   },
   "outputs": [
    {
     "name": "stdout",
     "output_type": "stream",
     "text": [
      "(40, 1)\n",
      "(40,)\n"
     ]
    }
   ],
   "source": [
    "# Thought it better to use train test split than the manual formula... will result in some different answers though\n",
    "from sklearn.model_selection import train_test_split\n",
    "X_train, X_test, y_train, y_test = train_test_split(X, y, train_size=0.8, random_state=42)\n",
    "\n",
    "X_train = X_train.reshape(-1,1) # had to reshape the X vectors to fix warnings\n",
    "X_test = X_test.reshape(-1,1)\n",
    "\n",
    "print X_train.shape\n",
    "print y_train.shape"
   ]
  },
  {
   "cell_type": "code",
   "execution_count": 15,
   "metadata": {
    "collapsed": false
   },
   "outputs": [
    {
     "data": {
      "text/plain": [
       "LinearRegression(copy_X=True, fit_intercept=True, n_jobs=1, normalize=False)"
      ]
     },
     "execution_count": 15,
     "metadata": {},
     "output_type": "execute_result"
    }
   ],
   "source": [
    "from sklearn import linear_model\n",
    "\n",
    "linear_regressor = linear_model.LinearRegression()\n",
    "linear_regressor.fit(X_train, y_train) "
   ]
  },
  {
   "cell_type": "code",
   "execution_count": 16,
   "metadata": {
    "collapsed": false
   },
   "outputs": [
    {
     "data": {
      "text/plain": [
       "<matplotlib.text.Text at 0x10fb19bd0>"
      ]
     },
     "execution_count": 16,
     "metadata": {},
     "output_type": "execute_result"
    },
    {
     "data": {
      "image/png": "[encoded data removed]",
      "text/plain": [
       "<matplotlib.figure.Figure at 0x10ccace10>"
      ]
     },
     "metadata": {},
     "output_type": "display_data"
    }
   ],
   "source": [
    "%matplotlib inline\n",
    "\n",
    "import matplotlib.pyplot as plt\n",
    "y_train_pred = linear_regressor.predict(X_train)\n",
    "plt.figure\n",
    "plt.scatter(X_train, y_train, color = 'green')\n",
    "plt.plot(X_train, y_train_pred, color = 'black', linewidth=4)\n",
    "plt.title('Training Data')"
   ]
  },
  {
   "cell_type": "code",
   "execution_count": 17,
   "metadata": {
    "collapsed": false
   },
   "outputs": [
    {
     "data": {
      "text/plain": [
       "<matplotlib.text.Text at 0x10faf5050>"
      ]
     },
     "execution_count": 17,
     "metadata": {},
     "output_type": "execute_result"
    },
    {
     "data": {
      "image/png": "[encoded data removed]",
      "text/plain": [
       "<matplotlib.figure.Figure at 0x10ccacd10>"
      ]
     },
     "metadata": {},
     "output_type": "display_data"
    }
   ],
   "source": [
    "# now how does the prediction do on the hold out set?\n",
    "y_test_pred = linear_regressor.predict(X_test)\n",
    "\n",
    "plt.scatter(X_test, y_test, color = 'green')\n",
    "plt.plot(X_test, y_test_pred, color = 'black', linewidth=4)\n",
    "plt.title('Testing Data')"
   ]
  },
  {
   "cell_type": "code",
   "execution_count": 18,
   "metadata": {
    "collapsed": false
   },
   "outputs": [
    {
     "name": "stdout",
     "output_type": "stream",
     "text": [
      "Mean absolute error      = 0.5629\n",
      "Mean squared error       = 0.4953\n",
      "Median absolute error    = 0.3911\n",
      "Explained variance score = 0.4\n",
      "R-squared score          = 0.1551\n"
     ]
    }
   ],
   "source": [
    "# Model metrics\n",
    "import sklearn.metrics as sm\n",
    "\n",
    "print \"Mean absolute error      =\", round(sm.mean_absolute_error(y_test, y_test_pred), 4)\n",
    "print \"Mean squared error       =\", round(sm.mean_squared_error(y_test, y_test_pred), 4)\n",
    "print \"Median absolute error    =\", round(sm.median_absolute_error(y_test, y_test_pred), 4)\n",
    "print \"Explained variance score =\", round(sm.explained_variance_score(y_test, y_test_pred), 4)\n",
    "print \"R-squared score          =\", round(sm.r2_score(y_test, y_test_pred), 4)"
   ]
  },
  {
   "cell_type": "markdown",
   "metadata": {},
   "source": [
    "# Multivariate Regression"
   ]
  },
  {
   "cell_type": "code",
   "execution_count": 19,
   "metadata": {
    "collapsed": false
   },
   "outputs": [
    {
     "name": "stdout",
     "output_type": "stream",
     "text": [
      "(500, 3)\n",
      "(500,)\n",
      "(500, 4)\n"
     ]
    }
   ],
   "source": [
    "reg_data = np.genfromtxt(\"data/data_multivar.txt\", delimiter=',')\n",
    "X, y = reg_data[:, :-1], reg_data[:,-1]\n",
    "print X.shape\n",
    "print y.shape\n",
    "print reg_data.shape\n",
    "#print y[:5]"
   ]
  },
  {
   "cell_type": "code",
   "execution_count": 20,
   "metadata": {
    "collapsed": false
   },
   "outputs": [
    {
     "name": "stdout",
     "output_type": "stream",
     "text": [
      "(400, 3)\n",
      "(100, 3)\n",
      "(100,)\n"
     ]
    }
   ],
   "source": [
    "# Thought it better to use train test split than the manual formula... will result in some different answers though\n",
    "\n",
    "X_train, X_test, y_train, y_test = train_test_split(X, y, train_size=0.8)\n",
    "\n",
    "#X_train = X_train.reshape(-1,1) # had to reshape the X vectors to fix warnings\n",
    "#X_test = X_test.reshape(-1,1)\n",
    "print X_train.shape\n",
    "print X_test.shape\n",
    "print y_test.shape"
   ]
  },
  {
   "cell_type": "code",
   "execution_count": 21,
   "metadata": {
    "collapsed": false
   },
   "outputs": [
    {
     "data": {
      "text/plain": [
       "array([ 3.38869519,  1.19635448, -2.61733302])"
      ]
     },
     "execution_count": 21,
     "metadata": {},
     "output_type": "execute_result"
    }
   ],
   "source": [
    "linear_regressor = linear_model.LinearRegression()\n",
    "linear_regressor.fit(X_train, y_train) \n",
    "y_test_pred = linear_regressor.predict(X_test)\n",
    "y_diff = y_test - y_test_pred\n",
    "linear_regressor.coef_"
   ]
  },
  {
   "cell_type": "code",
   "execution_count": 22,
   "metadata": {
    "collapsed": false
   },
   "outputs": [
    {
     "name": "stdout",
     "output_type": "stream",
     "text": [
      "Mean absolute error      = 3.5448\n",
      "Mean squared error       = 20.004\n",
      "Median absolute error    = 2.959\n",
      "Explained variance score = 0.8566\n",
      "R-squared score          = 0.8566\n"
     ]
    }
   ],
   "source": [
    "print \"Mean absolute error      =\", round(sm.mean_absolute_error(y_test, y_test_pred), 4)\n",
    "print \"Mean squared error       =\", round(sm.mean_squared_error(y_test, y_test_pred), 4)\n",
    "print \"Median absolute error    =\", round(sm.median_absolute_error(y_test, y_test_pred), 4)\n",
    "print \"Explained variance score =\", round(sm.explained_variance_score(y_test, y_test_pred), 4)\n",
    "print \"R-squared score          =\", round(sm.r2_score(y_test, y_test_pred), 4)"
   ]
  },
  {
   "cell_type": "markdown",
   "metadata": {},
   "source": [
    "# Ridge Regression"
   ]
  },
  {
   "cell_type": "code",
   "execution_count": 23,
   "metadata": {
    "collapsed": false
   },
   "outputs": [],
   "source": [
    "ridge_regressor = linear_model.Ridge(alpha=0.01, fit_intercept=True, max_iter=10000)\n",
    "ridge_regressor.fit(X_train, y_train) \n",
    "y_test_pred_ridge = ridge_regressor.predict(X_test)"
   ]
  },
  {
   "cell_type": "code",
   "execution_count": 24,
   "metadata": {
    "collapsed": false
   },
   "outputs": [
    {
     "name": "stdout",
     "output_type": "stream",
     "text": [
      "Mean absolute error      = 3.5448\n",
      "Mean squared error       = 20.004\n",
      "Median absolute error    = 2.959\n",
      "Explained variance score = 0.8566\n",
      "R-squared score          = 0.8566\n"
     ]
    }
   ],
   "source": [
    "print \"Mean absolute error      =\", round(sm.mean_absolute_error(y_test, y_test_pred_ridge), 4)\n",
    "print \"Mean squared error       =\", round(sm.mean_squared_error(y_test, y_test_pred_ridge), 4)\n",
    "print \"Median absolute error    =\", round(sm.median_absolute_error(y_test, y_test_pred_ridge), 4)\n",
    "print \"Explained variance score =\", round(sm.explained_variance_score(y_test, y_test_pred_ridge), 4)\n",
    "print \"R-squared score          =\", round(sm.r2_score(y_test, y_test_pred_ridge), 4)"
   ]
  },
  {
   "cell_type": "markdown",
   "metadata": {},
   "source": [
    "# Polynomial regression"
   ]
  },
  {
   "cell_type": "code",
   "execution_count": 25,
   "metadata": {
    "collapsed": false
   },
   "outputs": [],
   "source": [
    "from sklearn.preprocessing import PolynomialFeatures\n",
    "\n",
    "polynomial = PolynomialFeatures(degree=3)\n",
    "X_train_transformed = polynomial.fit_transform(X_train)"
   ]
  },
  {
   "cell_type": "code",
   "execution_count": 26,
   "metadata": {
    "collapsed": false
   },
   "outputs": [
    {
     "name": "stderr",
     "output_type": "stream",
     "text": [
      "/Users/bergsfamily/anaconda2/lib/python2.7/site-packages/sklearn/utils/validation.py:395: DeprecationWarning: Passing 1d arrays as data is deprecated in 0.17 and will raise ValueError in 0.19. Reshape your data either using X.reshape(-1, 1) if your data has a single feature or X.reshape(1, -1) if it contains a single sample.\n",
      "  DeprecationWarning)\n",
      "/Users/bergsfamily/anaconda2/lib/python2.7/site-packages/sklearn/utils/validation.py:395: DeprecationWarning: Passing 1d arrays as data is deprecated in 0.17 and will raise ValueError in 0.19. Reshape your data either using X.reshape(-1, 1) if your data has a single feature or X.reshape(1, -1) if it contains a single sample.\n",
      "  DeprecationWarning)\n",
      "/Users/bergsfamily/anaconda2/lib/python2.7/site-packages/sklearn/utils/validation.py:395: DeprecationWarning: Passing 1d arrays as data is deprecated in 0.17 and will raise ValueError in 0.19. Reshape your data either using X.reshape(-1, 1) if your data has a single feature or X.reshape(1, -1) if it contains a single sample.\n",
      "  DeprecationWarning)\n"
     ]
    },
    {
     "name": "stdout",
     "output_type": "stream",
     "text": [
      "Linear regression:     -10.6632717025\n",
      "Polynomial regression: -10.7185992549\n"
     ]
    }
   ],
   "source": [
    "datapoint = [0.39, 2.78, 7.11]\n",
    "poly_datapoint = polynomial.fit_transform(datapoint)\n",
    "poly_linear_model = linear_model.LinearRegression()\n",
    "poly_linear_model.fit(X_train_transformed, y_train)\n",
    "print \"Linear regression:    \", linear_regressor.predict(datapoint)[0]\n",
    "print \"Polynomial regression:\", poly_linear_model.predict(poly_datapoint)[0]"
   ]
  },
  {
   "cell_type": "code",
   "execution_count": 27,
   "metadata": {
    "collapsed": false
   },
   "outputs": [
    {
     "name": "stderr",
     "output_type": "stream",
     "text": [
      "/Users/bergsfamily/anaconda2/lib/python2.7/site-packages/sklearn/utils/validation.py:395: DeprecationWarning: Passing 1d arrays as data is deprecated in 0.17 and will raise ValueError in 0.19. Reshape your data either using X.reshape(-1, 1) if your data has a single feature or X.reshape(1, -1) if it contains a single sample.\n",
      "  DeprecationWarning)\n",
      "/Users/bergsfamily/anaconda2/lib/python2.7/site-packages/sklearn/utils/validation.py:395: DeprecationWarning: Passing 1d arrays as data is deprecated in 0.17 and will raise ValueError in 0.19. Reshape your data either using X.reshape(-1, 1) if your data has a single feature or X.reshape(1, -1) if it contains a single sample.\n",
      "  DeprecationWarning)\n",
      "/Users/bergsfamily/anaconda2/lib/python2.7/site-packages/sklearn/utils/validation.py:395: DeprecationWarning: Passing 1d arrays as data is deprecated in 0.17 and will raise ValueError in 0.19. Reshape your data either using X.reshape(-1, 1) if your data has a single feature or X.reshape(1, -1) if it contains a single sample.\n",
      "  DeprecationWarning)\n"
     ]
    },
    {
     "name": "stdout",
     "output_type": "stream",
     "text": [
      "Linear regression:     -10.6632717025\n",
      "Polynomial regression: -21.9397037222\n"
     ]
    }
   ],
   "source": [
    "polynomial = PolynomialFeatures(degree=10)\n",
    "X_train_transformed = polynomial.fit_transform(X_train)\n",
    "datapoint = [0.39, 2.78, 7.11]\n",
    "poly_datapoint = polynomial.fit_transform(datapoint)\n",
    "poly_linear_model = linear_model.LinearRegression()\n",
    "poly_linear_model.fit(X_train_transformed, y_train)\n",
    "print \"Linear regression:    \", linear_regressor.predict(datapoint)[0]\n",
    "print \"Polynomial regression:\", poly_linear_model.predict(poly_datapoint)[0]"
   ]
  },
  {
   "cell_type": "code",
   "execution_count": null,
   "metadata": {
    "collapsed": true
   },
   "outputs": [],
   "source": []
  }
 ],
 "metadata": {
  "kernelspec": {
   "display_name": "Python 2",
   "language": "python",
   "name": "python2"
  },
  "language_info": {
   "codemirror_mode": {
    "name": "ipython",
    "version": 2
   },
   "file_extension": ".py",
   "mimetype": "text/x-python",
   "name": "python",
   "nbconvert_exporter": "python",
   "pygments_lexer": "ipython2",
   "version": "2.7.11"
  }
 },
 "nbformat": 4,
 "nbformat_minor": 0
}
