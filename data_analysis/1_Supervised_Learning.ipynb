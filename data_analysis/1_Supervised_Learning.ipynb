{
 "cells": [
  {
   "cell_type": "code",
   "execution_count": 1,
   "metadata": {
    "collapsed": true
   },
   "outputs": [],
   "source": [
    "import numpy as np\n",
    "from sklearn import preprocessing"
   ]
  },
  {
   "cell_type": "code",
   "execution_count": 2,
   "metadata": {
    "collapsed": true
   },
   "outputs": [],
   "source": [
    "data = np.array([[3, -1.5,  2, -5.4], \n",
    "                 [0,  4,  -0.3, 2.1], \n",
    "                 [1,  3.3, -1.9, -4.3]])"
   ]
  },
  {
   "cell_type": "code",
   "execution_count": 3,
   "metadata": {
    "collapsed": false
   },
   "outputs": [
    {
     "name": "stdout",
     "output_type": "stream",
     "text": [
      "Mean          =  [  5.55111512e-17  -1.11022302e-16  -7.40148683e-17  -7.40148683e-17]\n",
      "Std Deviation =  [ 1.  1.  1.  1.]\n"
     ]
    }
   ],
   "source": [
    "# Mean removal\n",
    "data_standardized = preprocessing.scale(data) # defaults to scaling to a std normal\n",
    "print \"Mean          = \", data_standardized.mean(axis=0) # mean s/b 0\n",
    "print \"Std Deviation = \", data_standardized.std(axis=0)  # std dev s/b 1"
   ]
  },
  {
   "cell_type": "code",
   "execution_count": 5,
   "metadata": {
    "collapsed": false
   },
   "outputs": [
    {
     "name": "stdout",
     "output_type": "stream",
     "text": [
      "Min max scaled data = \n",
      "[[ 1.          0.          1.          0.        ]\n",
      " [ 0.          1.          0.41025641  1.        ]\n",
      " [ 0.33333333  0.87272727  0.          0.14666667]]\n"
     ]
    }
   ],
   "source": [
    "# Scaling data\n",
    "data_scaler = preprocessing.MinMaxScaler(feature_range=(0,1)) # scales features to (0,1)\n",
    "data_scaled = data_scaler.fit_transform(data)\n",
    "print \"Min max scaled data = \\n\", data_scaled"
   ]
  },
  {
   "cell_type": "code",
   "execution_count": 6,
   "metadata": {
    "collapsed": false
   },
   "outputs": [
    {
     "name": "stdout",
     "output_type": "stream",
     "text": [
      "L1 normalized data = \n",
      "[[ 0.25210084 -0.12605042  0.16806723 -0.45378151]\n",
      " [ 0.          0.625      -0.046875    0.328125  ]\n",
      " [ 0.0952381   0.31428571 -0.18095238 -0.40952381]]\n"
     ]
    }
   ],
   "source": [
    "# Normalized data\n",
    "data_normalized = preprocessing.normalize(data, norm='l1')\n",
    "print \"L1 normalized data = \\n\", data_normalized"
   ]
  },
  {
   "cell_type": "code",
   "execution_count": 7,
   "metadata": {
    "collapsed": false
   },
   "outputs": [
    {
     "name": "stdout",
     "output_type": "stream",
     "text": [
      "Binarized data = \n",
      "[[ 1.  0.  1.  0.]\n",
      " [ 0.  1.  0.  1.]\n",
      " [ 0.  1.  0.  0.]]\n"
     ]
    }
   ],
   "source": [
    "# Binarization\n",
    "data_binarized = preprocessing.Binarizer(threshold=1.4).transform(data)\n",
    "print \"Binarized data = \\n\", data_binarized"
   ]
  },
  {
   "cell_type": "code",
   "execution_count": 11,
   "metadata": {
    "collapsed": false
   },
   "outputs": [
    {
     "name": "stdout",
     "output_type": "stream",
     "text": [
      "Encoded vector = \n",
      "[[ 0.  0.  1.  0.  1.  0.  0.  0.  1.  1.  0.]]\n"
     ]
    }
   ],
   "source": [
    "# One Hot Encoding\n",
    "encoder = preprocessing.OneHotEncoder()\n",
    "encoder.fit([[0, 2, 1, 12],\n",
    "             [1, 3, 5, 3 ],\n",
    "             [2, 3, 2, 12],\n",
    "             [1, 2, 4, 3 ]])\n",
    "encoded_vector = encoder.transform([[2, 3, 5, 3]]).toarray()\n",
    "print \"Encoded vector = \\n\", encoded_vector"
   ]
  },
  {
   "cell_type": "code",
   "execution_count": 19,
   "metadata": {
    "collapsed": false
   },
   "outputs": [
    {
     "name": "stdout",
     "output_type": "stream",
     "text": [
      "Categories = [[0, 1, 2]] [[ 0.  0.  1.]]\n",
      "Categories = [[2, 3]] [[ 0.  1.]]\n",
      "Categories = [[1, 2, 4, 5]] [[ 0.  0.  0.  1.]]\n",
      "Categories = [[3, 12]] [[ 1.  0.]]\n"
     ]
    }
   ],
   "source": [
    "print \"Categories = [[0, 1, 2]]   \", encoded_vector[:, 0:3]\n",
    "print \"Categories = [[2, 3]]      \", encoded_vector[:, 3:5]\n",
    "print \"Categories = [[1, 2, 4, 5]]\", encoded_vector[:, 5:9]\n",
    "print \"Categories = [[3, 12]]     \", encoded_vector[:, 9:]"
   ]
  },
  {
   "cell_type": "code",
   "execution_count": 26,
   "metadata": {
    "collapsed": false
   },
   "outputs": [
    {
     "name": "stdout",
     "output_type": "stream",
     "text": [
      "Class Mapping\n",
      "   audi --> 0\n",
      "   bmw --> 1\n",
      "   ford --> 2\n",
      "   toyota --> 3\n"
     ]
    }
   ],
   "source": [
    "# Label encoding\n",
    "label_encoder = preprocessing.LabelEncoder()\n",
    "input_classes = ['audi', 'ford', 'audi', 'toyota', 'ford', 'bmw']\n",
    "label_encoder.fit(input_classes)\n",
    "print \"Class Mapping\"\n",
    "for i, item in enumerate(label_encoder.classes_):\n",
    "    print '  ', item, '-->', i"
   ]
  },
  {
   "cell_type": "code",
   "execution_count": 27,
   "metadata": {
    "collapsed": false
   },
   "outputs": [
    {
     "name": "stdout",
     "output_type": "stream",
     "text": [
      "Labels =         ['toyota', 'ford', 'audi']\n",
      "Encoded labels = [3, 2, 0]\n"
     ]
    }
   ],
   "source": [
    "labels = ['toyota', 'ford', 'audi']\n",
    "encoded_labels = label_encoder.transform(labels)\n",
    "print \"Labels =        \", labels\n",
    "print \"Encoded labels =\", list(encoded_labels)"
   ]
  },
  {
   "cell_type": "code",
   "execution_count": 28,
   "metadata": {
    "collapsed": false
   },
   "outputs": [
    {
     "name": "stdout",
     "output_type": "stream",
     "text": [
      "Encoded labels = [2, 1, 0, 3, 1]\n",
      "Decoded labels = ['ford' 'bmw' 'audi' 'toyota' 'bmw']\n"
     ]
    }
   ],
   "source": [
    "encoded_labels = [2,1,0,3,1]\n",
    "decoded_labels = label_encoder.inverse_transform(encoded_labels)\n",
    "print \"Encoded labels =\", encoded_labels\n",
    "print \"Decoded labels =\", decoded_labels"
   ]
  },
  {
   "cell_type": "code",
   "execution_count": null,
   "metadata": {
    "collapsed": true
   },
   "outputs": [],
   "source": []
  }
 ],
 "metadata": {
  "kernelspec": {
   "display_name": "Python 2",
   "language": "python",
   "name": "python2"
  },
  "language_info": {
   "codemirror_mode": {
    "name": "ipython",
    "version": 2
   },
   "file_extension": ".py",
   "mimetype": "text/x-python",
   "name": "python",
   "nbconvert_exporter": "python",
   "pygments_lexer": "ipython2",
   "version": "2.7.11"
  }
 },
 "nbformat": 4,
 "nbformat_minor": 0
}
