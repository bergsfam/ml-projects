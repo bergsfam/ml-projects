{
 "cells": [
  {
   "cell_type": "markdown",
   "metadata": {},
   "source": [
    "# Predict event type"
   ]
  },
  {
   "cell_type": "code",
   "execution_count": 1,
   "metadata": {
    "collapsed": false
   },
   "outputs": [],
   "source": [
    "import pandas as pd\n",
    "import numpy as np\n",
    "from sklearn.svm import SVC\n",
    "from sklearn import preprocessing\n",
    "import sklearn.model_selection"
   ]
  },
  {
   "cell_type": "code",
   "execution_count": 2,
   "metadata": {
    "collapsed": false
   },
   "outputs": [
    {
     "name": "stdout",
     "output_type": "stream",
     "text": [
      "Day           object\n",
      "Date          object\n",
      "Time          object\n",
      "People_In      int64\n",
      "People_Out     int64\n",
      "IsEvent       object\n",
      "dtype: object \n",
      "\n",
      "      Day      Date      Time  People_In  People_Out  IsEvent\n",
      "0  Sunday  07/24/05  00:00:00          0           0  noevent\n",
      "1  Sunday  07/24/05  00:30:00          1           0  noevent\n",
      "2  Sunday  07/24/05  01:00:00          0           0  noevent\n",
      "3  Sunday  07/24/05  01:30:00          0           0  noevent\n",
      "4  Sunday  07/24/05  02:00:00          0           0  noevent \n",
      "\n"
     ]
    },
    {
     "data": {
      "text/html": [
       "<div>\n",
       "<table border=\"1\" class=\"dataframe\">\n",
       "  <thead>\n",
       "    <tr style=\"text-align: right;\">\n",
       "      <th></th>\n",
       "      <th>People_In</th>\n",
       "      <th>People_Out</th>\n",
       "    </tr>\n",
       "  </thead>\n",
       "  <tbody>\n",
       "    <tr>\n",
       "      <th>count</th>\n",
       "      <td>5040.000000</td>\n",
       "      <td>5040.000000</td>\n",
       "    </tr>\n",
       "    <tr>\n",
       "      <th>mean</th>\n",
       "      <td>3.737500</td>\n",
       "      <td>3.888294</td>\n",
       "    </tr>\n",
       "    <tr>\n",
       "      <th>std</th>\n",
       "      <td>6.010372</td>\n",
       "      <td>6.834565</td>\n",
       "    </tr>\n",
       "    <tr>\n",
       "      <th>min</th>\n",
       "      <td>0.000000</td>\n",
       "      <td>0.000000</td>\n",
       "    </tr>\n",
       "    <tr>\n",
       "      <th>25%</th>\n",
       "      <td>0.000000</td>\n",
       "      <td>0.000000</td>\n",
       "    </tr>\n",
       "    <tr>\n",
       "      <th>50%</th>\n",
       "      <td>1.000000</td>\n",
       "      <td>0.000000</td>\n",
       "    </tr>\n",
       "    <tr>\n",
       "      <th>75%</th>\n",
       "      <td>5.000000</td>\n",
       "      <td>5.250000</td>\n",
       "    </tr>\n",
       "    <tr>\n",
       "      <th>max</th>\n",
       "      <td>54.000000</td>\n",
       "      <td>62.000000</td>\n",
       "    </tr>\n",
       "  </tbody>\n",
       "</table>\n",
       "</div>"
      ],
      "text/plain": [
       "         People_In   People_Out\n",
       "count  5040.000000  5040.000000\n",
       "mean      3.737500     3.888294\n",
       "std       6.010372     6.834565\n",
       "min       0.000000     0.000000\n",
       "25%       0.000000     0.000000\n",
       "50%       1.000000     0.000000\n",
       "75%       5.000000     5.250000\n",
       "max      54.000000    62.000000"
      ]
     },
     "execution_count": 2,
     "metadata": {},
     "output_type": "execute_result"
    }
   ],
   "source": [
    "bin_columns = ('Day', 'Date', 'Time', 'People_In', 'People_Out', 'IsEvent')\n",
    "\n",
    "bin_data = pd.read_csv('data/building_event_binary.txt', names=bin_columns)\n",
    "print bin_data.dtypes, \"\\n\"\n",
    "print bin_data.head(), \"\\n\"\n",
    "bin_data.describe()"
   ]
  },
  {
   "cell_type": "code",
   "execution_count": 3,
   "metadata": {
    "collapsed": false
   },
   "outputs": [
    {
     "name": "stdout",
     "output_type": "stream",
     "text": [
      "Day           object\n",
      "Date          object\n",
      "Time          object\n",
      "People_In      int64\n",
      "People_Out     int64\n",
      "EventType     object\n",
      "dtype: object \n",
      "\n",
      "       Day      Date      Time  People_In  People_Out EventType\n",
      "0  Tuesday  07/26/05  11:30:00          9          26    eventA\n",
      "1  Tuesday  07/26/05  12:00:00          8          13    eventA\n",
      "2  Tuesday  07/26/05  12:30:00          6           3    eventA\n",
      "3  Tuesday  07/26/05  13:00:00         25          12    eventA\n",
      "4  Tuesday  07/26/05  13:30:00         12          12    eventA \n",
      "\n"
     ]
    },
    {
     "data": {
      "text/html": [
       "<div>\n",
       "<table border=\"1\" class=\"dataframe\">\n",
       "  <thead>\n",
       "    <tr style=\"text-align: right;\">\n",
       "      <th></th>\n",
       "      <th>People_In</th>\n",
       "      <th>People_Out</th>\n",
       "    </tr>\n",
       "  </thead>\n",
       "  <tbody>\n",
       "    <tr>\n",
       "      <th>count</th>\n",
       "      <td>176.000000</td>\n",
       "      <td>176.000000</td>\n",
       "    </tr>\n",
       "    <tr>\n",
       "      <th>mean</th>\n",
       "      <td>13.647727</td>\n",
       "      <td>14.801136</td>\n",
       "    </tr>\n",
       "    <tr>\n",
       "      <th>std</th>\n",
       "      <td>9.398528</td>\n",
       "      <td>9.666449</td>\n",
       "    </tr>\n",
       "    <tr>\n",
       "      <th>min</th>\n",
       "      <td>0.000000</td>\n",
       "      <td>0.000000</td>\n",
       "    </tr>\n",
       "    <tr>\n",
       "      <th>25%</th>\n",
       "      <td>7.750000</td>\n",
       "      <td>7.000000</td>\n",
       "    </tr>\n",
       "    <tr>\n",
       "      <th>50%</th>\n",
       "      <td>12.000000</td>\n",
       "      <td>13.000000</td>\n",
       "    </tr>\n",
       "    <tr>\n",
       "      <th>75%</th>\n",
       "      <td>18.250000</td>\n",
       "      <td>21.000000</td>\n",
       "    </tr>\n",
       "    <tr>\n",
       "      <th>max</th>\n",
       "      <td>49.000000</td>\n",
       "      <td>55.000000</td>\n",
       "    </tr>\n",
       "  </tbody>\n",
       "</table>\n",
       "</div>"
      ],
      "text/plain": [
       "        People_In  People_Out\n",
       "count  176.000000  176.000000\n",
       "mean    13.647727   14.801136\n",
       "std      9.398528    9.666449\n",
       "min      0.000000    0.000000\n",
       "25%      7.750000    7.000000\n",
       "50%     12.000000   13.000000\n",
       "75%     18.250000   21.000000\n",
       "max     49.000000   55.000000"
      ]
     },
     "execution_count": 3,
     "metadata": {},
     "output_type": "execute_result"
    }
   ],
   "source": [
    "mult_columns = ('Day', 'Date', 'Time', 'People_In', 'People_Out', 'EventType')\n",
    "\n",
    "mult_data = pd.read_csv('data/building_event_multiclass.txt', names=mult_columns)\n",
    "print mult_data.dtypes, \"\\n\"\n",
    "print mult_data.head(), \"\\n\"\n",
    "mult_data.describe()"
   ]
  },
  {
   "cell_type": "code",
   "execution_count": 4,
   "metadata": {
    "collapsed": false
   },
   "outputs": [],
   "source": [
    "# Encode the data with the label encoder\n",
    "# Each column needs to be encoded separately - disadvantage of using Label Encoding\n",
    "# Don't want to One-Hot all of the dates though\n",
    "# Only doing it this way because of limited number of columns\n",
    "# Better way here: http://stackoverflow.com/a/31939145\n",
    "\n",
    "le_both_day = preprocessing.LabelEncoder() # seven days are standard\n",
    "le_bin_date = preprocessing.LabelEncoder()\n",
    "le_mult_date = preprocessing.LabelEncoder()\n",
    "le_both_time = preprocessing.LabelEncoder() # time steps are each half hour\n",
    "le_bin_isevent = preprocessing.LabelEncoder()\n",
    "le_mult_eventtype = preprocessing.LabelEncoder()"
   ]
  },
  {
   "cell_type": "code",
   "execution_count": 5,
   "metadata": {
    "collapsed": false
   },
   "outputs": [
    {
     "name": "stdout",
     "output_type": "stream",
     "text": [
      "Day           int64\n",
      "Date          int64\n",
      "Time          int64\n",
      "People_In     int64\n",
      "People_Out    int64\n",
      "IsEvent       int64\n",
      "dtype: object \n",
      "\n",
      "   Day  Date  Time  People_In  People_Out  IsEvent\n",
      "0    3     0     0          0           0        1\n",
      "1    3     0     1          1           0        1\n",
      "2    3     0     2          0           0        1\n",
      "3    3     0     3          0           0        1\n",
      "4    3     0     4          0           0        1 \n",
      "\n"
     ]
    },
    {
     "data": {
      "text/html": [
       "<div>\n",
       "<table border=\"1\" class=\"dataframe\">\n",
       "  <thead>\n",
       "    <tr style=\"text-align: right;\">\n",
       "      <th></th>\n",
       "      <th>Day</th>\n",
       "      <th>Date</th>\n",
       "      <th>Time</th>\n",
       "      <th>People_In</th>\n",
       "      <th>People_Out</th>\n",
       "      <th>IsEvent</th>\n",
       "    </tr>\n",
       "  </thead>\n",
       "  <tbody>\n",
       "    <tr>\n",
       "      <th>count</th>\n",
       "      <td>5040.000000</td>\n",
       "      <td>5040.000000</td>\n",
       "      <td>5040.000000</td>\n",
       "      <td>5040.000000</td>\n",
       "      <td>5040.000000</td>\n",
       "      <td>5040.000000</td>\n",
       "    </tr>\n",
       "    <tr>\n",
       "      <th>mean</th>\n",
       "      <td>3.000000</td>\n",
       "      <td>52.000000</td>\n",
       "      <td>23.500000</td>\n",
       "      <td>3.737500</td>\n",
       "      <td>3.888294</td>\n",
       "      <td>0.965079</td>\n",
       "    </tr>\n",
       "    <tr>\n",
       "      <th>std</th>\n",
       "      <td>2.000198</td>\n",
       "      <td>30.312522</td>\n",
       "      <td>13.854774</td>\n",
       "      <td>6.010372</td>\n",
       "      <td>6.834565</td>\n",
       "      <td>0.183597</td>\n",
       "    </tr>\n",
       "    <tr>\n",
       "      <th>min</th>\n",
       "      <td>0.000000</td>\n",
       "      <td>0.000000</td>\n",
       "      <td>0.000000</td>\n",
       "      <td>0.000000</td>\n",
       "      <td>0.000000</td>\n",
       "      <td>0.000000</td>\n",
       "    </tr>\n",
       "    <tr>\n",
       "      <th>25%</th>\n",
       "      <td>1.000000</td>\n",
       "      <td>26.000000</td>\n",
       "      <td>11.750000</td>\n",
       "      <td>0.000000</td>\n",
       "      <td>0.000000</td>\n",
       "      <td>1.000000</td>\n",
       "    </tr>\n",
       "    <tr>\n",
       "      <th>50%</th>\n",
       "      <td>3.000000</td>\n",
       "      <td>52.000000</td>\n",
       "      <td>23.500000</td>\n",
       "      <td>1.000000</td>\n",
       "      <td>0.000000</td>\n",
       "      <td>1.000000</td>\n",
       "    </tr>\n",
       "    <tr>\n",
       "      <th>75%</th>\n",
       "      <td>5.000000</td>\n",
       "      <td>78.000000</td>\n",
       "      <td>35.250000</td>\n",
       "      <td>5.000000</td>\n",
       "      <td>5.250000</td>\n",
       "      <td>1.000000</td>\n",
       "    </tr>\n",
       "    <tr>\n",
       "      <th>max</th>\n",
       "      <td>6.000000</td>\n",
       "      <td>104.000000</td>\n",
       "      <td>47.000000</td>\n",
       "      <td>54.000000</td>\n",
       "      <td>62.000000</td>\n",
       "      <td>1.000000</td>\n",
       "    </tr>\n",
       "  </tbody>\n",
       "</table>\n",
       "</div>"
      ],
      "text/plain": [
       "               Day         Date         Time    People_In   People_Out  \\\n",
       "count  5040.000000  5040.000000  5040.000000  5040.000000  5040.000000   \n",
       "mean      3.000000    52.000000    23.500000     3.737500     3.888294   \n",
       "std       2.000198    30.312522    13.854774     6.010372     6.834565   \n",
       "min       0.000000     0.000000     0.000000     0.000000     0.000000   \n",
       "25%       1.000000    26.000000    11.750000     0.000000     0.000000   \n",
       "50%       3.000000    52.000000    23.500000     1.000000     0.000000   \n",
       "75%       5.000000    78.000000    35.250000     5.000000     5.250000   \n",
       "max       6.000000   104.000000    47.000000    54.000000    62.000000   \n",
       "\n",
       "           IsEvent  \n",
       "count  5040.000000  \n",
       "mean      0.965079  \n",
       "std       0.183597  \n",
       "min       0.000000  \n",
       "25%       1.000000  \n",
       "50%       1.000000  \n",
       "75%       1.000000  \n",
       "max       1.000000  "
      ]
     },
     "execution_count": 5,
     "metadata": {},
     "output_type": "execute_result"
    }
   ],
   "source": [
    "bin_data_dummies = pd.DataFrame(data=None, columns=bin_data.columns, index=bin_data.index)\n",
    "bin_data_dummies.Day = le_both_day.fit_transform(bin_data.Day)\n",
    "bin_data_dummies.Date = le_bin_date.fit_transform(bin_data.Date)\n",
    "bin_data_dummies.Time = le_both_time.fit_transform(bin_data.Time)\n",
    "bin_data_dummies.People_In = bin_data.People_In\n",
    "bin_data_dummies.People_Out = bin_data.People_Out\n",
    "bin_data_dummies.IsEvent = le_bin_isevent.fit_transform(bin_data.IsEvent)\n",
    "\n",
    "print bin_data_dummies.dtypes, \"\\n\"\n",
    "print bin_data_dummies.head(), \"\\n\"\n",
    "bin_data_dummies.describe()"
   ]
  },
  {
   "cell_type": "code",
   "execution_count": 6,
   "metadata": {
    "collapsed": false
   },
   "outputs": [
    {
     "name": "stdout",
     "output_type": "stream",
     "text": [
      "Day           int64\n",
      "Date          int64\n",
      "Time          int64\n",
      "People_In     int64\n",
      "People_Out    int64\n",
      "EventType     int64\n",
      "dtype: object \n",
      "\n",
      "   Day  Date  Time  People_In  People_Out  EventType\n",
      "0    4     0     6          9          26          0\n",
      "1    4     0     7          8          13          0\n",
      "2    4     0     8          6           3          0\n",
      "3    4     0     9         25          12          0\n",
      "4    4     0    10         12          12          0 \n",
      "\n"
     ]
    },
    {
     "data": {
      "text/html": [
       "<div>\n",
       "<table border=\"1\" class=\"dataframe\">\n",
       "  <thead>\n",
       "    <tr style=\"text-align: right;\">\n",
       "      <th></th>\n",
       "      <th>Day</th>\n",
       "      <th>Date</th>\n",
       "      <th>Time</th>\n",
       "      <th>People_In</th>\n",
       "      <th>People_Out</th>\n",
       "      <th>EventType</th>\n",
       "    </tr>\n",
       "  </thead>\n",
       "  <tbody>\n",
       "    <tr>\n",
       "      <th>count</th>\n",
       "      <td>176.000000</td>\n",
       "      <td>176.000000</td>\n",
       "      <td>176.000000</td>\n",
       "      <td>176.000000</td>\n",
       "      <td>176.000000</td>\n",
       "      <td>176.000000</td>\n",
       "    </tr>\n",
       "    <tr>\n",
       "      <th>mean</th>\n",
       "      <td>2.607955</td>\n",
       "      <td>12.039773</td>\n",
       "      <td>9.323864</td>\n",
       "      <td>13.647727</td>\n",
       "      <td>14.801136</td>\n",
       "      <td>0.517045</td>\n",
       "    </tr>\n",
       "    <tr>\n",
       "      <th>std</th>\n",
       "      <td>1.839175</td>\n",
       "      <td>7.744019</td>\n",
       "      <td>7.297960</td>\n",
       "      <td>9.398528</td>\n",
       "      <td>9.666449</td>\n",
       "      <td>0.770710</td>\n",
       "    </tr>\n",
       "    <tr>\n",
       "      <th>min</th>\n",
       "      <td>0.000000</td>\n",
       "      <td>0.000000</td>\n",
       "      <td>0.000000</td>\n",
       "      <td>0.000000</td>\n",
       "      <td>0.000000</td>\n",
       "      <td>0.000000</td>\n",
       "    </tr>\n",
       "    <tr>\n",
       "      <th>25%</th>\n",
       "      <td>1.000000</td>\n",
       "      <td>6.000000</td>\n",
       "      <td>3.000000</td>\n",
       "      <td>7.750000</td>\n",
       "      <td>7.000000</td>\n",
       "      <td>0.000000</td>\n",
       "    </tr>\n",
       "    <tr>\n",
       "      <th>50%</th>\n",
       "      <td>3.000000</td>\n",
       "      <td>9.000000</td>\n",
       "      <td>8.000000</td>\n",
       "      <td>12.000000</td>\n",
       "      <td>13.000000</td>\n",
       "      <td>0.000000</td>\n",
       "    </tr>\n",
       "    <tr>\n",
       "      <th>75%</th>\n",
       "      <td>4.000000</td>\n",
       "      <td>18.000000</td>\n",
       "      <td>14.250000</td>\n",
       "      <td>18.250000</td>\n",
       "      <td>21.000000</td>\n",
       "      <td>1.000000</td>\n",
       "    </tr>\n",
       "    <tr>\n",
       "      <th>max</th>\n",
       "      <td>5.000000</td>\n",
       "      <td>26.000000</td>\n",
       "      <td>30.000000</td>\n",
       "      <td>49.000000</td>\n",
       "      <td>55.000000</td>\n",
       "      <td>2.000000</td>\n",
       "    </tr>\n",
       "  </tbody>\n",
       "</table>\n",
       "</div>"
      ],
      "text/plain": [
       "              Day        Date        Time   People_In  People_Out   EventType\n",
       "count  176.000000  176.000000  176.000000  176.000000  176.000000  176.000000\n",
       "mean     2.607955   12.039773    9.323864   13.647727   14.801136    0.517045\n",
       "std      1.839175    7.744019    7.297960    9.398528    9.666449    0.770710\n",
       "min      0.000000    0.000000    0.000000    0.000000    0.000000    0.000000\n",
       "25%      1.000000    6.000000    3.000000    7.750000    7.000000    0.000000\n",
       "50%      3.000000    9.000000    8.000000   12.000000   13.000000    0.000000\n",
       "75%      4.000000   18.000000   14.250000   18.250000   21.000000    1.000000\n",
       "max      5.000000   26.000000   30.000000   49.000000   55.000000    2.000000"
      ]
     },
     "execution_count": 6,
     "metadata": {},
     "output_type": "execute_result"
    }
   ],
   "source": [
    "mult_data_dummies = pd.DataFrame(data=None, columns=mult_data.columns, index=mult_data.index)\n",
    "mult_data_dummies.Day = le_both_day.fit_transform(mult_data.Day)\n",
    "mult_data_dummies.Date = le_mult_date.fit_transform(mult_data.Date)\n",
    "mult_data_dummies.Time = le_both_time.fit_transform(mult_data.Time)\n",
    "mult_data_dummies.People_In = mult_data.People_In\n",
    "mult_data_dummies.People_Out = mult_data.People_Out\n",
    "mult_data_dummies.EventType = le_mult_eventtype.fit_transform(mult_data.EventType)\n",
    "\n",
    "print mult_data_dummies.dtypes, \"\\n\"\n",
    "print mult_data_dummies.head(), \"\\n\"\n",
    "mult_data_dummies.describe()"
   ]
  },
  {
   "cell_type": "code",
   "execution_count": 7,
   "metadata": {
    "collapsed": false
   },
   "outputs": [
    {
     "name": "stdout",
     "output_type": "stream",
     "text": [
      "Binary Data\n",
      "X: \n",
      "[[3 0 0 0 0]\n",
      " [3 0 1 1 0]\n",
      " [3 0 2 0 0]\n",
      " [3 0 3 0 0]\n",
      " [3 0 4 0 0]]\n",
      "X shape:  (5040, 5)\n",
      "y:  [1 1 1 1 1]\n",
      "y shape:  (5040,)\n",
      "\n",
      "\n",
      "Multiclass Data\n",
      "X: \n",
      "[[ 4  0  6  9 26]\n",
      " [ 4  0  7  8 13]\n",
      " [ 4  0  8  6  3]\n",
      " [ 4  0  9 25 12]\n",
      " [ 4  0 10 12 12]]\n",
      "X shape:  (176, 5)\n",
      "y:  [0 0 0 0 0]\n",
      "y shape:  (176,)\n"
     ]
    }
   ],
   "source": [
    "# Prep the data for SVM\n",
    "X_bin = bin_data_dummies.values[:,:-1]\n",
    "y_bin = bin_data_dummies.IsEvent.values\n",
    "\n",
    "X_mult = mult_data_dummies.values[:,:-1]\n",
    "y_mult = mult_data_dummies.EventType.values\n",
    "\n",
    "print \"Binary Data\"\n",
    "print \"X: \\n\", X_bin[:5]\n",
    "print \"X shape: \", X_bin.shape\n",
    "print \"y: \", y_bin[:5]\n",
    "print \"y shape: \", y_bin.shape\n",
    "print \"\\n\"\n",
    "print \"Multiclass Data\"\n",
    "print \"X: \\n\", X_mult[:5]\n",
    "print \"X shape: \", X_mult.shape\n",
    "print \"y: \", y_mult[:5]\n",
    "print \"y shape: \", y_mult.shape"
   ]
  },
  {
   "cell_type": "code",
   "execution_count": 8,
   "metadata": {
    "collapsed": false
   },
   "outputs": [
    {
     "name": "stdout",
     "output_type": "stream",
     "text": [
      "Accuracy of the classifier: 96.43%\n"
     ]
    }
   ],
   "source": [
    "params = {'kernel': 'rbf', 'probability': True, 'class_weight': 'balanced'} \n",
    "bin_data_classifier = SVC(**params)\n",
    "bin_data_classifier.fit(X_bin, y_bin)\n",
    "accuracy = sklearn.model_selection.cross_val_score(bin_data_classifier, X_bin, y_bin, scoring='accuracy', cv=3)\n",
    "print \"Accuracy of the classifier: \" + str(round(100 * accuracy.mean(), 2)) + \"%\""
   ]
  },
  {
   "cell_type": "code",
   "execution_count": 9,
   "metadata": {
    "collapsed": false
   },
   "outputs": [
    {
     "name": "stdout",
     "output_type": "stream",
     "text": [
      "Accuracy of the classifier: 64.77%\n"
     ]
    }
   ],
   "source": [
    "params = {'kernel': 'rbf', 'probability': True, 'class_weight': 'balanced'} \n",
    "mult_data_classifier = SVC(**params)\n",
    "mult_data_classifier.fit(X_mult, y_mult)\n",
    "accuracy = sklearn.model_selection.cross_val_score(mult_data_classifier, X_mult, y_mult, scoring='accuracy', cv=3)\n",
    "print \"Accuracy of the classifier: \" + str(round(100 * accuracy.mean(), 2)) + \"%\""
   ]
  },
  {
   "cell_type": "code",
   "execution_count": 12,
   "metadata": {
    "collapsed": false
   },
   "outputs": [
    {
     "name": "stdout",
     "output_type": "stream",
     "text": [
      " [[4 72 8 21 23]]\n"
     ]
    }
   ],
   "source": [
    "# I feel like I am paying for using Pandas here, Ouch!\n",
    "# A lot of work just for transforming ONE point\n",
    "\n",
    "bin_input_data = pd.DataFrame(data=None, columns=bin_data.columns, index=bin_data.index)\n",
    "bin_input_data.Day = 'Tuesday'\n",
    "bin_input_data.Date = '10/04/05'\n",
    "bin_input_data.Time = '12:30:00'\n",
    "bin_input_data.People_In = 21\n",
    "bin_input_data.People_Out = 23\n",
    "\n",
    "mult_input_data = pd.DataFrame(data=None, columns=mult_data.columns, index=mult_data.index)\n",
    "mult_input_data.Day = bin_input_data.Day\n",
    "mult_input_data.Date = bin_input_data.Date\n",
    "mult_input_data.Time = bin_input_data.Time\n",
    "mult_input_data.People_In = bin_input_data.People_In\n",
    "mult_input_data.People_Out = bin_input_data.People_Out\n",
    "\n",
    "bin_input_data.Day = le_both_day.transform(bin_input_data.Day)\n",
    "bin_input_data.Date = le_bin_date.transform(bin_input_data.Date)\n",
    "bin_input_data.Time = le_both_time.transform(bin_input_data.Time)\n",
    "\n",
    "mult_input_data.Day = le_both_day.transform(mult_input_data.Day)\n",
    "mult_input_data.Date = le_mult_date.transform(mult_input_data.Date)\n",
    "mult_input_data.Time = le_both_time.transform(mult_input_data.Time)\n",
    "\n",
    "X_input_bin = bin_input_data.values[0,:-1].reshape(1, -1)\n",
    "\n",
    "X_input_mult = mult_input_data.values[0,:-1].reshape(1, -1)\n",
    "\n",
    "print X_input_bin"
   ]
  },
  {
   "cell_type": "code",
   "execution_count": 13,
   "metadata": {
    "collapsed": false
   },
   "outputs": [
    {
     "name": "stdout",
     "output_type": "stream",
     "text": [
      "Output class: noevent\n",
      "Output class: eventA\n"
     ]
    }
   ],
   "source": [
    "output_class_bin = bin_data_classifier.predict(X_input_bin)\n",
    "output_class_mult = mult_data_classifier.predict(X_input_mult)\n",
    "print \"Output class:\", le_bin_isevent.inverse_transform(output_class_bin)[0]\n",
    "print \"Output class:\", le_mult_eventtype.inverse_transform(output_class_mult)[0]"
   ]
  },
  {
   "cell_type": "code",
   "execution_count": null,
   "metadata": {
    "collapsed": true
   },
   "outputs": [],
   "source": []
  }
 ],
 "metadata": {
  "kernelspec": {
   "display_name": "Python 2",
   "language": "python",
   "name": "python2"
  }
 },
 "nbformat": 4,
 "nbformat_minor": 0
}
